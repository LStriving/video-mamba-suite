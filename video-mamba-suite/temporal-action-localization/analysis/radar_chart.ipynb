{
 "cells": [
  {
   "cell_type": "code",
   "execution_count": 1,
   "metadata": {},
   "outputs": [],
   "source": [
    "import os\n",
    "import seaborn\n",
    "import pandas as pd\n",
    "import numpy as np\n",
    "import matplotlib.pyplot as plt\n",
    "from matplotlib.patches import Circle, RegularPolygon\n",
    "from matplotlib.path import Path\n",
    "from matplotlib.projections.polar import PolarAxes\n",
    "from matplotlib.projections import register_projection\n",
    "from matplotlib.spines import Spine\n",
    "from matplotlib.transforms import Affine2D\n",
    "import matplotlib as mpl\n",
    "import matplotlib.font_manager\n",
    "mpl.use('Agg')\n",
    "params = {'font.family': 'serif','font.serif': 'Times', 'text.usetex': True,'mathtext.fontset': 'custom'}\n",
    "mpl.rcParams.update(params)"
   ]
  },
  {
   "cell_type": "code",
   "execution_count": 2,
   "metadata": {},
   "outputs": [],
   "source": [
    "def parse_result_log(log):\n",
    "    if os.path.exists(log):\n",
    "        with open(log, 'r') as f:\n",
    "            lines = f.readlines()\n",
    "        lines = [lines[-2].strip(), lines[-1].strip()]\n",
    "        lines = ' '.join(lines)\n",
    "        print(lines)\n",
    "        maps = lines.split('[')[1].split(']')[0].split(\" \")\n",
    "        maps = [float(m) for m in maps if m != '']\n",
    "        mean_ap = np.mean(maps)\n",
    "        return mean_ap\n",
    "    else:\n",
    "        raise FileNotFoundError(f\"File {log} not found\")"
   ]
  },
  {
   "cell_type": "code",
   "execution_count": 3,
   "metadata": {},
   "outputs": [],
   "source": [
    "method_ruan_logfolder = '../outputs/ckpt_swallow_stage2_lgte'\n",
    "method_hyder_logfolder = '../outputs/ckpt_swallow_2tower_10ep'\n",
    "our_method_logfolder = '../outputs/2tower_crossmamba_3layer_ep30_vw0.7_heatmap_channelagg'"
   ]
  },
  {
   "cell_type": "code",
   "execution_count": 4,
   "metadata": {},
   "outputs": [],
   "source": [
    "action_names = ['LaryngealVestibuleClosure', 'UESOpen', 'OralDelivery', 'ThroatTransport', 'HyoidExercise', 'ThroatSwallow', 'SoftPalateLift']"
   ]
  },
  {
   "cell_type": "code",
   "execution_count": 5,
   "metadata": {},
   "outputs": [],
   "source": [
    "ori_ruan = [62.6, 65.4, 41.0, 59.4, 44.3, 19.7, 57.9]"
   ]
  },
  {
   "cell_type": "code",
   "execution_count": 6,
   "metadata": {},
   "outputs": [
    {
     "name": "stdout",
     "output_type": "stream",
     "text": [
      "mAP: [83.19794321 82.10801152 82.07432769 80.71208958 77.87450497 70.47973393 52.64406377]\n",
      "mAP: [80.63689084 80.63689084 79.14625736 78.56582354 78.28230796 68.40265753 54.93958443]\n",
      "mAP: [84.19917515 83.96611947 83.35091606 82.05253735 79.28553252 73.51354381 60.92700566]\n",
      "mAP: [80.47257757 80.47257757 79.72972197 79.71596355 79.13463146 76.12276668 63.793633  ]\n",
      "mAP: [80.653641   80.39421165 80.03991655 79.74699866 79.24959699 71.00106177 44.19740581]\n",
      "mAP: [85.92743331 85.92743331 85.49861035 85.1551507  85.01894161 83.60160156 77.80422039]\n",
      "mAP: [70.86388896 68.78206713 57.41976971 42.39032597 37.6922586  27.61980357 14.18004333]\n",
      "mAP: [71.68415146 69.60929918 60.06079011 46.17794474 40.656449   29.09489665 13.68754816]\n",
      "mAP: [73.62529893 69.67333077 62.66340268 51.12580904 39.45114863 21.50320215 12.22692871]\n",
      "mAP: [84.16358258 83.68686947 82.18785068 80.35533246 76.81303038 71.63411781 41.70264217]\n",
      "mAP: [86.019819   86.019819   85.47263413 84.26390764 83.36518398 68.78751952 52.42377541]\n",
      "mAP: [90.68937286 89.83644206 89.26054416 89.26054416 86.52589832 75.23978579 54.64516993]\n",
      "mAP: [74.4244289  73.75224086 69.5623206  56.54546515 34.6901778  21.26709453 7.45250846]\n",
      "mAP: [81.41167908 78.85209315 76.85888105 54.58404964 31.34935897 13.94169031 1.63659092]\n",
      "mAP: [88.03419893 87.50797866 82.56078696 67.08162917 37.00854701 23.3678477 6.56909228]\n",
      "mAP: [71.38514593 55.43902222 37.24635623 17.55810417 12.89794093  6.70369197 2.2355317 ]\n",
      "mAP: [53.64718477 43.06689622 24.36761266 12.75986898  7.71558468  3.68898041 2.03856049]\n",
      "mAP: [72.96760354 47.86782473 34.02918028 17.96547286 10.91126662  5.12321792 2.14647888]\n",
      "mAP: [80.79081896 80.71802238 78.44188097 78.12181054 64.87802782 42.67645991 20.42540245]\n",
      "mAP: [83.54955643 83.54955643 79.95915599 78.02976971 72.71584517 61.75838038 46.63822375]\n",
      "mAP: [86.42577775 84.65851342 84.6088723  82.92465399 74.54721295 67.75593424 46.16189601]\n"
     ]
    }
   ],
   "source": [
    "N = len(action_names)\n",
    "methods = ['Ruan et al.', 'Hyder et al.', 'Our method']\n",
    "mean_aps = np.zeros((N, 3))\n",
    "for i, action_name in enumerate(action_names):\n",
    "    for j, method_logfolder in enumerate([method_ruan_logfolder, method_hyder_logfolder, our_method_logfolder]):\n",
    "        log = os.path.join(method_logfolder, f'{action_name}.log')\n",
    "        mean_aps[i, j] = parse_result_log(log)"
   ]
  },
  {
   "cell_type": "code",
   "execution_count": 7,
   "metadata": {},
   "outputs": [
    {
     "data": {
      "text/plain": [
       "array([[75.5843821 , 74.37291607, 78.18497572],\n",
       "       [77.06312454, 73.6118332 , 84.1333416 ],\n",
       "       [45.56402247, 47.28158276, 47.18130299],\n",
       "       [74.36334651, 78.05037981, 82.20825104],\n",
       "       [48.24203376, 48.37633473, 56.01858296],\n",
       "       [29.06654188, 21.04066974, 27.28729212],\n",
       "       [63.72177472, 72.31435541, 75.29755152]])"
      ]
     },
     "execution_count": 7,
     "metadata": {},
     "output_type": "execute_result"
    }
   ],
   "source": [
    "mean_aps"
   ]
  },
  {
   "cell_type": "code",
   "execution_count": 8,
   "metadata": {},
   "outputs": [],
   "source": [
    "ori_ruan = np.array(ori_ruan)\n",
    "ori_ruan.T\n",
    "mean_aps = np.concatenate([ori_ruan.T.reshape(-1, 1), mean_aps], axis=1)"
   ]
  },
  {
   "cell_type": "code",
   "execution_count": 49,
   "metadata": {},
   "outputs": [],
   "source": []
  },
  {
   "cell_type": "code",
   "execution_count": 9,
   "metadata": {},
   "outputs": [
    {
     "data": {
      "text/plain": [
       "array([[62.6       , 75.5843821 , 74.37291607, 78.18497572],\n",
       "       [65.4       , 77.06312454, 73.6118332 , 84.1333416 ],\n",
       "       [41.        , 45.56402247, 47.28158276, 47.18130299],\n",
       "       [59.4       , 74.36334651, 78.05037981, 82.20825104],\n",
       "       [44.3       , 48.24203376, 48.37633473, 56.01858296],\n",
       "       [19.7       , 29.06654188, 21.04066974, 27.28729212],\n",
       "       [57.9       , 63.72177472, 72.31435541, 75.29755152]])"
      ]
     },
     "execution_count": 9,
     "metadata": {},
     "output_type": "execute_result"
    }
   ],
   "source": [
    "mean_aps"
   ]
  },
  {
   "cell_type": "code",
   "execution_count": 10,
   "metadata": {},
   "outputs": [],
   "source": [
    "axis_range = [[40, 80], [50, 90], [10, 50], [50, 90], [20, 60], [10, 30], [40, 80]]"
   ]
  },
  {
   "cell_type": "code",
   "execution_count": 11,
   "metadata": {},
   "outputs": [],
   "source": [
    "# Normalize data for each action independently\n",
    "def normalize_data(data):\n",
    "    normalized_data = np.zeros_like(data)\n",
    "    \n",
    "    for i, (min_val, max_val) in enumerate(axis_range):\n",
    "        normalized_data[i, :] = (data[i, :] - min_val) / (max_val - min_val)\n",
    "    return normalized_data"
   ]
  },
  {
   "cell_type": "code",
   "execution_count": 12,
   "metadata": {},
   "outputs": [],
   "source": [
    "normalized_mean_aps = normalize_data(mean_aps)"
   ]
  },
  {
   "cell_type": "code",
   "execution_count": 13,
   "metadata": {},
   "outputs": [
    {
     "data": {
      "text/html": [
       "<div>\n",
       "<style scoped>\n",
       "    .dataframe tbody tr th:only-of-type {\n",
       "        vertical-align: middle;\n",
       "    }\n",
       "\n",
       "    .dataframe tbody tr th {\n",
       "        vertical-align: top;\n",
       "    }\n",
       "\n",
       "    .dataframe thead th {\n",
       "        text-align: right;\n",
       "    }\n",
       "</style>\n",
       "<table border=\"1\" class=\"dataframe\">\n",
       "  <thead>\n",
       "    <tr style=\"text-align: right;\">\n",
       "      <th></th>\n",
       "      <th>Ruan et al.</th>\n",
       "      <th>Ruan et al. *</th>\n",
       "      <th>Hyder et al.</th>\n",
       "      <th>Our method</th>\n",
       "    </tr>\n",
       "  </thead>\n",
       "  <tbody>\n",
       "    <tr>\n",
       "      <th>LaryngealVestibuleClosure</th>\n",
       "      <td>62.6</td>\n",
       "      <td>75.584382</td>\n",
       "      <td>74.372916</td>\n",
       "      <td>78.184976</td>\n",
       "    </tr>\n",
       "    <tr>\n",
       "      <th>UESOpen</th>\n",
       "      <td>65.4</td>\n",
       "      <td>77.063125</td>\n",
       "      <td>73.611833</td>\n",
       "      <td>84.133342</td>\n",
       "    </tr>\n",
       "    <tr>\n",
       "      <th>OralDelivery</th>\n",
       "      <td>41.0</td>\n",
       "      <td>45.564022</td>\n",
       "      <td>47.281583</td>\n",
       "      <td>47.181303</td>\n",
       "    </tr>\n",
       "    <tr>\n",
       "      <th>ThroatTransport</th>\n",
       "      <td>59.4</td>\n",
       "      <td>74.363347</td>\n",
       "      <td>78.050380</td>\n",
       "      <td>82.208251</td>\n",
       "    </tr>\n",
       "    <tr>\n",
       "      <th>HyoidExercise</th>\n",
       "      <td>44.3</td>\n",
       "      <td>48.242034</td>\n",
       "      <td>48.376335</td>\n",
       "      <td>56.018583</td>\n",
       "    </tr>\n",
       "    <tr>\n",
       "      <th>ThroatSwallow</th>\n",
       "      <td>19.7</td>\n",
       "      <td>29.066542</td>\n",
       "      <td>21.040670</td>\n",
       "      <td>27.287292</td>\n",
       "    </tr>\n",
       "    <tr>\n",
       "      <th>SoftPalateLift</th>\n",
       "      <td>57.9</td>\n",
       "      <td>63.721775</td>\n",
       "      <td>72.314355</td>\n",
       "      <td>75.297552</td>\n",
       "    </tr>\n",
       "  </tbody>\n",
       "</table>\n",
       "</div>"
      ],
      "text/plain": [
       "                           Ruan et al.  Ruan et al. *  Hyder et al.  \\\n",
       "LaryngealVestibuleClosure         62.6      75.584382     74.372916   \n",
       "UESOpen                           65.4      77.063125     73.611833   \n",
       "OralDelivery                      41.0      45.564022     47.281583   \n",
       "ThroatTransport                   59.4      74.363347     78.050380   \n",
       "HyoidExercise                     44.3      48.242034     48.376335   \n",
       "ThroatSwallow                     19.7      29.066542     21.040670   \n",
       "SoftPalateLift                    57.9      63.721775     72.314355   \n",
       "\n",
       "                           Our method  \n",
       "LaryngealVestibuleClosure   78.184976  \n",
       "UESOpen                     84.133342  \n",
       "OralDelivery                47.181303  \n",
       "ThroatTransport             82.208251  \n",
       "HyoidExercise               56.018583  \n",
       "ThroatSwallow               27.287292  \n",
       "SoftPalateLift              75.297552  "
      ]
     },
     "execution_count": 13,
     "metadata": {},
     "output_type": "execute_result"
    }
   ],
   "source": [
    "methods = ['Ruan et al.', 'Ruan et al. *', 'Hyder et al.', 'Our method']\n",
    "df = pd.DataFrame(mean_aps, columns=methods, index=action_names)\n",
    "df"
   ]
  },
  {
   "cell_type": "code",
   "execution_count": 14,
   "metadata": {},
   "outputs": [
    {
     "data": {
      "text/plain": [
       "array([[0.565     , 0.88960955, 0.8593229 , 0.95462439],\n",
       "       [0.385     , 0.67657811, 0.59029583, 0.85333354],\n",
       "       [0.775     , 0.88910056, 0.93203957, 0.92953257],\n",
       "       [0.235     , 0.60908366, 0.7012595 , 0.80520628],\n",
       "       [0.6075    , 0.70605084, 0.70940837, 0.90046457],\n",
       "       [0.485     , 0.95332709, 0.55203349, 0.86436461],\n",
       "       [0.4475    , 0.59304437, 0.80785889, 0.88243879]])"
      ]
     },
     "execution_count": 14,
     "metadata": {},
     "output_type": "execute_result"
    }
   ],
   "source": [
    "normalized_mean_aps"
   ]
  },
  {
   "cell_type": "code",
   "execution_count": 15,
   "metadata": {},
   "outputs": [],
   "source": [
    "df.to_csv('mean_ap.csv')"
   ]
  },
  {
   "cell_type": "code",
   "execution_count": 16,
   "metadata": {},
   "outputs": [],
   "source": [
    "def radar_factory(num_vars, frame='circle'):\n",
    "    \"\"\"\n",
    "    Create a radar chart with `num_vars` axes.\n",
    "\n",
    "    This function creates a RadarAxes projection and registers it.\n",
    "\n",
    "    Parameters\n",
    "    ----------\n",
    "    num_vars : int\n",
    "        Number of variables for radar chart.\n",
    "    frame : {'circle', 'polygon'}\n",
    "        Shape of frame surrounding axes.\n",
    "\n",
    "    \"\"\"\n",
    "    # calculate evenly-spaced axis angles\n",
    "    theta = np.linspace(0, 2*np.pi, num_vars, endpoint=False)\n",
    "\n",
    "    class RadarTransform(PolarAxes.PolarTransform):\n",
    "\n",
    "        def transform_path_non_affine(self, path):\n",
    "            # Paths with non-unit interpolation steps correspond to gridlines,\n",
    "            # in which case we force interpolation (to defeat PolarTransform's\n",
    "            # autoconversion to circular arcs).\n",
    "            if path._interpolation_steps > 1:\n",
    "                path = path.interpolated(num_vars)\n",
    "            return Path(self.transform(path.vertices), path.codes)\n",
    "\n",
    "    class RadarAxes(PolarAxes):\n",
    "\n",
    "        name = 'radar'\n",
    "        PolarTransform = RadarTransform\n",
    "\n",
    "        def __init__(self, *args, **kwargs):\n",
    "            super().__init__(*args, **kwargs)\n",
    "            # rotate plot such that the first axis is at the top\n",
    "            self.set_theta_zero_location('N')\n",
    "\n",
    "        def fill(self, *args, closed=True, **kwargs):\n",
    "            \"\"\"Override fill so that line is closed by default\"\"\"\n",
    "            return super().fill(closed=closed, *args, **kwargs)\n",
    "\n",
    "        def plot(self, *args, **kwargs):\n",
    "            \"\"\"Override plot so that line is closed by default\"\"\"\n",
    "            lines = super().plot(*args, **kwargs)\n",
    "            for line in lines:\n",
    "                self._close_line(line)\n",
    "\n",
    "        def _close_line(self, line):\n",
    "            x, y = line.get_data()\n",
    "            # FIXME: markers at x[0], y[0] get doubled-up\n",
    "            if x[0] != x[-1]:\n",
    "                x = np.append(x, x[0])\n",
    "                y = np.append(y, y[0])\n",
    "                line.set_data(x, y)\n",
    "\n",
    "        def set_varlabels(self, labels):\n",
    "            self.set_thetagrids(np.degrees(theta), labels)\n",
    "\n",
    "        def _gen_axes_patch(self):\n",
    "            # The Axes patch must be centered at (0.5, 0.5) and of radius 0.5\n",
    "            # in axes coordinates.\n",
    "            if frame == 'circle':\n",
    "                return Circle((0.5, 0.5), 0.5)\n",
    "            elif frame == 'polygon':\n",
    "                return RegularPolygon((0.5, 0.5), num_vars,\n",
    "                                      radius=.5, edgecolor=\"k\")\n",
    "            else:\n",
    "                raise ValueError(\"Unknown value for 'frame': %s\" % frame)\n",
    "\n",
    "        def _gen_axes_spines(self):\n",
    "            if frame == 'circle':\n",
    "                return super()._gen_axes_spines()\n",
    "            elif frame == 'polygon':\n",
    "                # spine_type must be 'left'/'right'/'top'/'bottom'/'circle'.\n",
    "                spine = Spine(axes=self,\n",
    "                              spine_type='circle',\n",
    "                              path=Path.unit_regular_polygon(num_vars))\n",
    "                # unit_regular_polygon gives a polygon of radius 1 centered at\n",
    "                # (0, 0) but we want a polygon of radius 0.5 centered at (0.5,\n",
    "                # 0.5) in axes coordinates.\n",
    "                spine.set_transform(Affine2D().scale(.5).translate(.5, .5)\n",
    "                                    + self.transAxes)\n",
    "                return {'polar': spine}\n",
    "            else:\n",
    "                raise ValueError(\"Unknown value for 'frame': %s\" % frame)\n",
    "\n",
    "    register_projection(RadarAxes)\n",
    "    return theta"
   ]
  },
  {
   "cell_type": "code",
   "execution_count": 33,
   "metadata": {},
   "outputs": [],
   "source": [
    "# action_names = ['LaryngealVestibuleClosure', 'UESOpen', 'OralDelivery', 'ThroatTransport', 'HyoidExercise', 'ThroatSwallow', 'SoftPalateLift']\n",
    "paper_action_names = [\n",
    "    'Laryngeal\\nVestibule\\nClosure',\n",
    "    'UES\\nOpening',\n",
    "    'Oral\\nTransit',\n",
    "    'Pharyngeal\\nTransit',\n",
    "    'Hyoid\\nMotion',\n",
    "    '\\tSwallow\\nInitiation',\n",
    "    'Soft Palate\\nElevation'\n",
    "]\n",
    "methods = ['Ruan et al. (A2Net)', 'Ruan et al. (ActionMamba) ', 'Hyder et al. (ActionMamba)', 'Ours (ActionMamba)']\n",
    "# Plot radar chart\n",
    "N = len(action_names)\n",
    "theta = radar_factory(N, frame='polygon')\n",
    "fig, ax = plt.subplots(figsize=(8, 8), subplot_kw=dict(projection='radar'))\n",
    "\n",
    "# ax.set_title('Mean Average Precision', weight='bold', size='medium', position=(0.5, 1.1), \n",
    "#              horizontalalignment='center', verticalalignment='center')\n",
    "\n",
    "grid_num = 4\n",
    "# axis_range to grid_axis_range\n",
    "grid_axis_range = []\n",
    "for i, (min_val, max_val) in enumerate(axis_range):\n",
    "    grid_axis_range.append(np.linspace(min_val, max_val, grid_num + 1))\n",
    "grid_axis_range = np.array(grid_axis_range)\n",
    "grid_axis_x = [0.2, 0.4, 0.6, 0.8]\n",
    "\n",
    "colors = ['dodgerblue',  'lightgreen','gold', 'orangered']\n",
    "for i in range(len(methods)):\n",
    "    ax.plot(theta, normalized_mean_aps[:, i], color=colors[i], label=methods[i])\n",
    "    ax.fill(theta, normalized_mean_aps[:, i], facecolor=colors[i], alpha=0.25)\n",
    "    # label the axis with acutal values\n",
    "    # for j in range(N):\n",
    "    #     ax.text(theta[j], normalized_mean_aps[j, i], f\"{mean_aps[j, i]:.1f}\", color=colors[i], fontsize='small')\n",
    "    # label the axis with grid axis range\n",
    "    for j in range(N):\n",
    "        ax.text(theta[j], grid_axis_x[i], f\"{grid_axis_range[j, i]:.0f}\", color='black', fontsize='medium')\n",
    "\n",
    "# close the original axis ticks\n",
    "ax.set_yticklabels([])\n",
    "# set grid lines color\n",
    "ax.yaxis.grid(True, color='grey', linestyle='-')\n",
    "ax.xaxis.grid(True, color='grey', linestyle='-')\n",
    "ax.set_varlabels(paper_action_names)\n",
    "# increase the font size of the axis labels\n",
    "ax.tick_params(axis='x', labelsize='xx-large')\n",
    "# increase the distance between the axis labels and the plot\n",
    "ax.tick_params(axis='x', pad=20)\n",
    "# remove the outer border\n",
    "ax.spines['polar'].set_visible(False)\n",
    "legend = ax.legend(loc='upper right', bbox_to_anchor=(1.25, 0.2), labelspacing=0.1, fontsize='large')\n",
    "plt.tight_layout()\n",
    "plt.show()\n",
    "plt.savefig('radar_chart.png', dpi=600)\n",
    "plt.close()"
   ]
  }
 ],
 "metadata": {
  "kernelspec": {
   "display_name": "torch",
   "language": "python",
   "name": "python3"
  },
  "language_info": {
   "codemirror_mode": {
    "name": "ipython",
    "version": 3
   },
   "file_extension": ".py",
   "mimetype": "text/x-python",
   "name": "python",
   "nbconvert_exporter": "python",
   "pygments_lexer": "ipython3",
   "version": "3.10.4"
  }
 },
 "nbformat": 4,
 "nbformat_minor": 2
}
