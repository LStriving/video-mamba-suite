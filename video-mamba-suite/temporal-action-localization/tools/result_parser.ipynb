{
 "cells": [
  {
   "cell_type": "code",
   "execution_count": 1,
   "metadata": {},
   "outputs": [],
   "source": [
    "import os\n",
    "import pickle as pkl\n",
    "import numpy as np\n",
    "import pandas as pd\n",
    "import matplotlib.pyplot as plt\n",
    "import torch\n",
    "import skvideo.io\n",
    "from tqdm import tqdm\n",
    "import json"
   ]
  },
  {
   "cell_type": "code",
   "execution_count": 2,
   "metadata": {},
   "outputs": [],
   "source": [
    "folder = '../tmp/threshold0.23'"
   ]
  },
  {
   "cell_type": "code",
   "execution_count": 38,
   "metadata": {},
   "outputs": [],
   "source": [
    "filename = 'final_result.pkl'\n",
    "with open(os.path.join(folder, filename), 'rb') as f:\n",
    "    data = pkl.load(f)\n",
    "data.pop('seg-id')\n",
    "results = data\n",
    " # {video-id:[], t-start:[], t-end:[], score:[], label:[]}"
   ]
  },
  {
   "cell_type": "markdown",
   "metadata": {},
   "source": [
    "Get video with two `AllTime` actions"
   ]
  },
  {
   "cell_type": "code",
   "execution_count": 4,
   "metadata": {},
   "outputs": [],
   "source": [
    "# load labels\n",
    "json_path = '../data/swallow/anno/swallow_singlestage.json'"
   ]
  },
  {
   "cell_type": "code",
   "execution_count": 5,
   "metadata": {},
   "outputs": [
    {
     "name": "stdout",
     "output_type": "stream",
     "text": [
      "Number of videos in test set with two swallow actions: 10\n"
     ]
    }
   ],
   "source": [
    "with open(json_path, 'r') as f:\n",
    "    labels = json.load(f)\n",
    "# filter with test set and two sallow actions\n",
    "desired_video_label = {}\n",
    "for vid, label in labels.items():\n",
    "    if label['subset'] == 'Test':\n",
    "        # get anno\n",
    "        annos = label['annotations']\n",
    "        alltime = []\n",
    "        for anno in annos:\n",
    "            if anno['label'] == 'AllTime':\n",
    "                alltime.append(anno)\n",
    "        if len(alltime) < 2:\n",
    "            continue\n",
    "        else:\n",
    "            desired_video_label[vid] = alltime\n",
    "print('Number of videos in test set with two swallow actions:', len(desired_video_label))"
   ]
  },
  {
   "cell_type": "code",
   "execution_count": 6,
   "metadata": {},
   "outputs": [
    {
     "data": {
      "text/plain": [
       "{'2_16.0_2021062301_kang1nan2e2_jian4kang1cha2ti3_2021_06_23_121717_64': [{'label': 'AllTime',\n",
       "   'segment': [11.928509446745693, 14.864634843764922],\n",
       "   'segment(frames)': [357, 445],\n",
       "   'label_id': 0},\n",
       "  {'label': 'AllTime',\n",
       "   'segment': [36.82057254524897, 40.55873219581364],\n",
       "   'segment(frames)': [1104, 1216],\n",
       "   'label_id': 0}],\n",
       " '5_64.0_2021062305_du4jing4xian2_jian4kang1cha2ti3_2021_06_23_113601_64': [{'label': 'AllTime',\n",
       "   'segment': [18.688772042985327, 21.397536632624952],\n",
       "   'segment(frames)': [560, 641],\n",
       "   'label_id': 0},\n",
       "  {'label': 'AllTime',\n",
       "   'segment': [54.43384201999448, 59.68401504445693],\n",
       "   'segment(frames)': [1631, 1789],\n",
       "   'label_id': 0}],\n",
       " '1_0.0_2021062301_kang1nan2e2_jian4kang1cha2ti3_2021_06_23_121717_64': [{'label': 'AllTime',\n",
       "   'segment': [27.914638774433683, 30.849234142585264],\n",
       "   'segment(frames)': [837, 925],\n",
       "   'label_id': 0},\n",
       "  {'label': 'AllTime',\n",
       "   'segment': [52.79373050081684, 56.52994217866105],\n",
       "   'segment(frames)': [1582, 1694],\n",
       "   'label_id': 0}],\n",
       " '8_112.0_2021082501_liu2meng2_jian4kang1cha2ti3_2021_08_25_152802_64': [{'label': 'AllTime',\n",
       "   'segment': [6.762866376436636, 9.503269576367122],\n",
       "   'segment(frames)': [203, 285],\n",
       "   'label_id': 0},\n",
       "  {'label': 'AllTime',\n",
       "   'segment': [50.242728550772306, 55.55626618806441],\n",
       "   'segment(frames)': [1506, 1665],\n",
       "   'label_id': 0}],\n",
       " '6_80.0_2021082501_liu2meng2_jian4kang1cha2ti3_2021_08_25_152802_64': [{'label': 'AllTime',\n",
       "   'segment': [3.4904280672270844, 6.299405923224075],\n",
       "   'segment(frames)': [105, 189],\n",
       "   'label_id': 0},\n",
       "  {'label': 'AllTime',\n",
       "   'segment': [38.83464497880677, 41.57647994634433],\n",
       "   'segment(frames)': [1164, 1246],\n",
       "   'label_id': 0}],\n",
       " '1_0.0_2021062405_zhong1li4_jian4kang1cha2ti3_2021_06_24_164144_64': [{'label': 'AllTime',\n",
       "   'segment': [2.6058284095836326, 8.016701461369852],\n",
       "   'segment(frames)': [78, 240],\n",
       "   'label_id': 0},\n",
       "  {'label': 'AllTime',\n",
       "   'segment': [45.52841730290204, 48.100208768219126],\n",
       "   'segment(frames)': [1364, 1442],\n",
       "   'label_id': 0}],\n",
       " '6_80.0_2021062305_du4jing4xian2_jian4kang1cha2ti3_2021_06_23_113601_64': [{'label': 'AllTime',\n",
       "   'segment': [2.647732673785263, 5.349439513061053],\n",
       "   'segment(frames)': [79, 160],\n",
       "   'label_id': 0},\n",
       "  {'label': 'AllTime',\n",
       "   'segment': [38.299668023444205, 43.53616159760842],\n",
       "   'segment(frames)': [1148, 1305],\n",
       "   'label_id': 0}],\n",
       " '3_32.0_2021082501_liu2meng2_jian4kang1cha2ti3_2021_08_25_152802_64': [{'label': 'AllTime',\n",
       "   'segment': [7.860827097620073, 11.74110782055243],\n",
       "   'segment(frames)': [236, 352],\n",
       "   'label_id': 0},\n",
       "  {'label': 'AllTime',\n",
       "   'segment': [51.61976549321099, 54.430211711913685],\n",
       "   'segment(frames)': [1547, 1631],\n",
       "   'label_id': 0}],\n",
       " '3_32.0_2021062405_zhong1li4_jian4kang1cha2ti3_2021_06_24_164144_64': [{'label': 'AllTime',\n",
       "   'segment': [13.514807200104713, 16.09063179369986],\n",
       "   'segment(frames)': [405, 482],\n",
       "   'label_id': 0},\n",
       "  {'label': 'AllTime',\n",
       "   'segment': [49.14420655137121, 50.750462292492045],\n",
       "   'segment(frames)': [1473, 1521],\n",
       "   'label_id': 0}],\n",
       " '5_64.0_2021082501_liu2meng2_jian4kang1cha2ti3_2021_08_25_152802_64': [{'label': 'AllTime',\n",
       "   'segment': [19.52455068440577, 22.33352854040276],\n",
       "   'segment(frames)': [585, 669],\n",
       "   'label_id': 0},\n",
       "  {'label': 'AllTime',\n",
       "   'segment': [54.86876759598545, 57.61060256352301],\n",
       "   'segment(frames)': [1644, 1727],\n",
       "   'label_id': 0}]}"
      ]
     },
     "execution_count": 6,
     "metadata": {},
     "output_type": "execute_result"
    }
   ],
   "source": [
    "desired_video_label"
   ]
  },
  {
   "cell_type": "code",
   "execution_count": 42,
   "metadata": {},
   "outputs": [],
   "source": [
    "mask = np.zeros(len(results['video-id']), dtype=bool)\n",
    "for i, vid in enumerate(results['video-id']):\n",
    "    if vid in desired_video_label:\n",
    "        mask[i] = True\n",
    "# confidence threshold\n",
    "mask = mask & (results['score'] > 0.3)\n",
    "\n",
    "# filter results\n",
    "new_ids = []\n",
    "for key in results.keys():\n",
    "    if key == 'video-id':\n",
    "        for idx in range(len(results[key])):\n",
    "            if mask[idx]:\n",
    "                new_ids.append(results[key][idx])\n",
    "        results[key] = new_ids\n",
    "    else:\n",
    "        results[key] = results[key][mask]"
   ]
  },
  {
   "cell_type": "code",
   "execution_count": 20,
   "metadata": {},
   "outputs": [
    {
     "data": {
      "text/plain": [
       "5"
      ]
     },
     "execution_count": 20,
     "metadata": {},
     "output_type": "execute_result"
    }
   ],
   "source": [
    "len(results)"
   ]
  },
  {
   "cell_type": "code",
   "execution_count": 43,
   "metadata": {},
   "outputs": [
    {
     "data": {
      "text/plain": [
       "174"
      ]
     },
     "execution_count": 43,
     "metadata": {},
     "output_type": "execute_result"
    }
   ],
   "source": [
    "len(results['video-id'])"
   ]
  },
  {
   "cell_type": "code",
   "execution_count": 44,
   "metadata": {},
   "outputs": [],
   "source": [
    "# dump results\n",
    "# video-id t-start t-end label-id score\n",
    "with open('../tmp/twoaction-results.txt', 'w') as f:\n",
    "    for i in range(len(results['video-id'])):\n",
    "        vid = results['video-id'][i]\n",
    "        t_start = results['t-start'][i]\n",
    "        t_end = results['t-end'][i]\n",
    "        label = results['label'][i]\n",
    "        score = results['score'][i]\n",
    "        f.write(f'{vid} {t_start} {t_end} {label} {score}\\n')"
   ]
  }
 ],
 "metadata": {
  "kernelspec": {
   "display_name": "torch",
   "language": "python",
   "name": "python3"
  },
  "language_info": {
   "codemirror_mode": {
    "name": "ipython",
    "version": 3
   },
   "file_extension": ".py",
   "mimetype": "text/x-python",
   "name": "python",
   "nbconvert_exporter": "python",
   "pygments_lexer": "ipython3",
   "version": "3.10.4"
  }
 },
 "nbformat": 4,
 "nbformat_minor": 2
}
